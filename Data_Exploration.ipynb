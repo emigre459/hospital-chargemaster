{
 "cells": [
  {
   "cell_type": "markdown",
   "metadata": {},
   "source": [
    "# Purpose\n",
    "\n",
    "This notebook largely serves to allow me to sift through all of the chargemasters and metadata generated via the work already done in [this wonderful repo](https://github.com/vsoch/hospital-chargemaster) (from which I forked my repo). \n",
    "\n",
    "Based upon the originating repo's own README, there's at least some data collection that still needs to be done (e.g. [data from hospitalpriceindex.com](https://search.hospitalpriceindex.com/hospital/Barnes-Jewish-Hospital/5359?page=1) has to be scraped but they're denying IP addresses that try to do so). However, if any of that gets done in here, it won't be until after I've sifted through the current material to make sure I have a handle on what data are already available. \n",
    "\n",
    "It's fairly plausible that I'll then attempt to combine it all into a single sqlite or MongoDB database that can subsequently be analyzed. But I'm getting ahead of myself - first to figure out what we have to work with!"
   ]
  },
  {
   "cell_type": "markdown",
   "metadata": {},
   "source": [
    "# Background\n",
    "\n",
    "*Assume everything in this cell is quoted directly from the originating repo README, albeit with some extra content removed for the purposes of streamlining. Anything in italics like this should be assumed to be editorial additions by me.*\n",
    "\n",
    "**From the original README:**\n",
    "\n",
    "## Get List of Hospital Pages\n",
    "We have compiled a list of hospitals and links in the [hospitals.tsv](hospitals.tsv) \n",
    "file, generated via the [0.get_hospitals.py](0.get_hospitals.py) script *which pulls these data from [a Quartz article](https://qz.com/1518545/price-lists-for-the-115-biggest-us-hospitals-new-transparency-law/) detailing ~115 hospital URLs from which the authors were able to find chargemasters in one form or another*. \n",
    "\n",
    "The file includes the following variables, separated by tabs:\n",
    "\n",
    " - **hospital_name** is the human friendly name\n",
    " - **hospital_url** is the human friendly URL, typically the page that includes a link to the data.\n",
    " - **hospital_id** is the unique identifier for the hospital, the hospital name, in lowercase, with spaces replaced with `-`\n",
    "   \n",
    "## Organize Data\n",
    "\n",
    "Each hospital has records kept in a subfolder in the [data](data) folder. Specifically,\n",
    "each subfolder is named according to the hospital name (made all lowercase, with spaces \n",
    "replaced with `-`). If a subfolder begins with an underscore, it means that I wasn't\n",
    "able to find the charge list on the hospital site (and maybe you can help?) \n",
    "Within that folder, you will find:\n",
    "\n",
    " - `scrape.py`: A script to scrape the data\n",
    " - `browser.py`: If we need to interact with a browser, we use selenium to do this.\n",
    " - `latest`: a folder with the last scraped (latest data files)\n",
    " - `YYYY-MM-DD` folders, where each folder includes:\n",
    "   - `records.json` the complete list of records scraped for a particular data\n",
    "   - `*.csv` or `*.xlsx` or `*.json`: the scraped data files.\n",
    "\n",
    "## Parsing\n",
    "This is likely one of the hardest steps. I wanted to see the extent to which I could\n",
    "create a simple parser that would generate a single TSV (tab separted value) file\n",
    "per hospital, with minimally an identifier for a charge, and a price in dollars. If\n",
    "provided, I would also include a description and code:\n",
    "\n",
    " - **charge_code**\n",
    " - **price**\n",
    " - **description**\n",
    " - **hospital_id**\n",
    " - **filename**\n",
    "\n",
    "Each of these parsers is also in the hospital subfolder, and named as \"parser.py.\" The parser would output a data-latest.tsv file at the top level of the folder, along with a dated (by year `data-<year>.tsv`). At some point\n",
    "I realized that there were different kinds of charges, including inpatient, outpatient, DRG (diagnostic related group) and others called\n",
    "\"standard\" or \"average.\" I then went back and added an additional column\n",
    "to the data:\n",
    "\n",
    " - **charge_type** can be one of standard, average, inpatient, outpatient, drg, or (if more detail is supplied) insured, uninsured, pharmacy, or supply. This is not a gold standard labeling but a best effort. If not specified, I labeled as standard, because this would be a good assumption."
   ]
  },
  {
   "cell_type": "markdown",
   "metadata": {},
   "source": [
    "# Exploratory Data Analysis (EDA)\n",
    "\n",
    "OK, I think I have a handle on this, let's take a look at the data, starting with the hospital metadata.\n",
    "\n",
    "It may be a bit confusing for anyone following along at home, but note that I had already started my own effort to download a bunch of these chargemasters in a far more manual approach than what @vsoch did with `BeautifulSoup` and all. As a result, I may be comparing her dataset at times in this notebook to the one I was developing. Mine was never going to have automated updates like hers however, hence why I'm deferring to her repo and data over my own (while mine may be a bit more comprehensive in terms of number of hospitals, I'd rather the data be up to date as much as possible). \n",
    "\n",
    "That said, as of this writing, I have approximately 600+ unique hospitals included in my chargemaster index, so I'm going to keep an eye out during my EDA to see if my more manual approach may still be useful."
   ]
  },
  {
   "cell_type": "markdown",
   "metadata": {},
   "source": [
    "## Metadata"
   ]
  },
  {
   "cell_type": "code",
   "execution_count": null,
   "metadata": {
    "ExecuteTime": {
     "end_time": "2019-04-21T13:38:52.567120Z",
     "start_time": "2019-04-21T13:38:52.487935Z"
    }
   },
   "outputs": [],
   "source": [
    "#Make sure any changes to custom packages can be reflected immediately \n",
    "#in the notebook without kernel restart\n",
    "import autoreload\n",
    "%load_ext autoreload\n",
    "%autoreload 2"
   ]
  },
  {
   "cell_type": "code",
   "execution_count": null,
   "metadata": {
    "ExecuteTime": {
     "end_time": "2019-04-21T13:39:03.434382Z",
     "start_time": "2019-04-21T13:38:52.570228Z"
    },
    "scrolled": true
   },
   "outputs": [],
   "source": [
    "#Import the hospital metadata\n",
    "\n",
    "import pandas as pd\n",
    "metadata = pd.read_csv('hospitals.tsv', delimiter = r'\\t')\n",
    "metadata"
   ]
  },
  {
   "cell_type": "code",
   "execution_count": null,
   "metadata": {
    "ExecuteTime": {
     "end_time": "2019-04-21T13:39:03.483301Z",
     "start_time": "2019-04-21T13:39:03.437319Z"
    }
   },
   "outputs": [],
   "source": [
    "#Do these data include the huge CA chargemaster dataset on oshpd.ca.gov?\n",
    "metadata[metadata['hospital_url'].str.contains('oshpd.ca.gov')]"
   ]
  },
  {
   "cell_type": "markdown",
   "metadata": {},
   "source": [
    "*Interesting, it looks like this dataset may not include the full OSHPD chargemaster list.* I find that unlikely however, as @vsoch makes it clear in another part of her README that she built the `oshpd-ca` scraper and found 795+ hospitals in that dataset. **This suggests that this metadata file may not be complete, as it's really just an inventory of the links from the aforementioned Quartz article, and not necessarily a full accounting of the hospitals contained in the dataset.**"
   ]
  },
  {
   "cell_type": "markdown",
   "metadata": {},
   "source": [
    "## Reading in the Tabulated Data\n",
    "\n",
    "OK, so the metadata table wasn't super useful (investigating `data/oshpd-ca` confirmed that indeed there are far more files in this repo than hospitals listed in `hospitals.tsv`), but there are **a lot** of files to plow through here! And vsoch was kind enough to try and compile them whenever appropriate in the various hospital/site-specific folders within `data` as `data-latest[-n].tsv` (`-n` indicates that, if the file gets above 100 MB, it's split into `data-latest-1.tsv`, `data-latest-2.tsv`, etc. to avoid going over the GitHub per-file size limit).\n",
    "\n",
    "Let's try to parse all of these TSV files into a single coherent DataFrame! The entire `data` folders is less than 4 GB, and I'm confident that more than half of that is individual XLSX/CSV files, so I think this should be something we can hold in memory easily enough.\n",
    "\n",
    "...still, we'll use some tricks (e.g. making the sub-dataframes as a generator instead of a list) to ensure optimal memory usage, just to be safe."
   ]
  },
  {
   "cell_type": "code",
   "execution_count": null,
   "metadata": {
    "ExecuteTime": {
     "end_time": "2019-04-17T02:43:02.489999Z",
     "start_time": "2019-04-17T02:43:02.410566Z"
    },
    "scrolled": true
   },
   "outputs": [],
   "source": [
    "# Search through the data/hospital-id folders for data-latest[-n].tsv files\n",
    "# so you can concatenate them into a single DataFrame\n",
    "from glob import glob, iglob\n",
    "\n",
    "for name in iglob('data/*/data-latest*.tsv'):\n",
    "    print(name)"
   ]
  },
  {
   "cell_type": "code",
   "execution_count": null,
   "metadata": {
    "ExecuteTime": {
     "end_time": "2019-04-18T20:40:16.233282Z",
     "start_time": "2019-04-18T20:39:05.673060Z"
    },
    "scrolled": true
   },
   "outputs": [],
   "source": [
    "# Setup the full dataframe using iterators/generators to save on memory\n",
    "all_files = iglob('data/*/data-latest*.tsv')\n",
    "individual_dfs = (pd.read_csv(f, delimiter = '\\t', \n",
    "                              low_memory = False,\n",
    "                             thousands = ',') for f in all_files)\n",
    "\n",
    "df = pd.concat(individual_dfs, ignore_index=True)"
   ]
  },
  {
   "cell_type": "code",
   "execution_count": null,
   "metadata": {
    "ExecuteTime": {
     "end_time": "2019-04-18T20:40:58.253195Z",
     "start_time": "2019-04-18T20:40:16.737287Z"
    },
    "scrolled": true
   },
   "outputs": [],
   "source": [
    "df.info(memory_usage = 'deep', verbose = True, null_counts = True)"
   ]
  },
  {
   "cell_type": "code",
   "execution_count": null,
   "metadata": {
    "ExecuteTime": {
     "end_time": "2019-04-17T02:47:09.548208Z",
     "start_time": "2019-04-17T02:47:09.491273Z"
    },
    "scrolled": true
   },
   "outputs": [],
   "source": [
    "df.head()"
   ]
  },
  {
   "cell_type": "markdown",
   "metadata": {},
   "source": [
    "**Not bad! At first I was a bit worried when I looked at this initial file in Excel, but Excel improperly interprets the thousands comma on prices as a new field delimiter.** This might work after all!"
   ]
  },
  {
   "cell_type": "code",
   "execution_count": null,
   "metadata": {
    "ExecuteTime": {
     "end_time": "2019-04-17T02:52:23.479047Z",
     "start_time": "2019-04-17T02:52:23.432792Z"
    }
   },
   "outputs": [],
   "source": [
    "df.tail()"
   ]
  },
  {
   "cell_type": "code",
   "execution_count": null,
   "metadata": {
    "ExecuteTime": {
     "end_time": "2019-04-17T03:00:05.809494Z",
     "start_time": "2019-04-17T02:59:13.047840Z"
    }
   },
   "outputs": [],
   "source": [
    "# Push out unoptimized CSV copy of dataframe so we don't need it to perpetually be in memory\n",
    "\n",
    "df.to_csv('data/all_hospitals-latest.csv')"
   ]
  },
  {
   "cell_type": "markdown",
   "metadata": {},
   "source": [
    "## Optimize the DataFrame\n",
    "\n",
    "This dataframe is quite large (almost 4GB in memory!) and that's likely to cause all sorts of problems when it comes time to do analysis. So we'll need to make sure we understand the nature of each column's data and then optimize for it (after potentially correcting for things like strings that are actually numbers).\n",
    "\n",
    "To start with, let's check out the nature of the data in each column:\n",
    "\n",
    "1. How often do charge codes exist?\n",
    "2. We'll check, but likely that description exists for most\n",
    "3. Other than decimal numbers, what values are in price?\n",
    "4. What are all of the different charge type values, and which ones can we filter out (e.g. drg)?\n",
    "    * Do charge codes get embedded in descriptions a lot, like what we see in df.tail()? Or is this something that is only present for non-standard charge_type?"
   ]
  },
  {
   "cell_type": "code",
   "execution_count": 3,
   "metadata": {
    "ExecuteTime": {
     "end_time": "2019-04-23T18:37:11.106717Z",
     "start_time": "2019-04-23T18:36:41.195378Z"
    },
    "scrolled": true
   },
   "outputs": [
    {
     "name": "stdout",
     "output_type": "stream",
     "text": [
      "The autoreload extension is already loaded. To reload it, use:\n",
      "  %reload_ext autoreload\n"
     ]
    }
   ],
   "source": [
    "# In case you need to reinitialize df after experimenting...\n",
    "\n",
    "#Make sure any changes to custom packages can be reflected immediately \n",
    "#in the notebook without kernel restart\n",
    "import autoreload\n",
    "%load_ext autoreload\n",
    "%autoreload 2\n",
    "\n",
    "import pandas as pd\n",
    "import numpy as np\n",
    "\n",
    "df = pd.read_csv('data/all_hospitals-latest.csv', index_col = 0, low_memory = False)"
   ]
  },
  {
   "cell_type": "code",
   "execution_count": 4,
   "metadata": {
    "ExecuteTime": {
     "end_time": "2019-04-23T18:37:11.336566Z",
     "start_time": "2019-04-23T18:37:11.295638Z"
    },
    "scrolled": true
   },
   "outputs": [
    {
     "data": {
      "text/html": [
       "<div>\n",
       "<style scoped>\n",
       "    .dataframe tbody tr th:only-of-type {\n",
       "        vertical-align: middle;\n",
       "    }\n",
       "\n",
       "    .dataframe tbody tr th {\n",
       "        vertical-align: top;\n",
       "    }\n",
       "\n",
       "    .dataframe thead th {\n",
       "        text-align: right;\n",
       "    }\n",
       "</style>\n",
       "<table border=\"1\" class=\"dataframe\">\n",
       "  <thead>\n",
       "    <tr style=\"text-align: right;\">\n",
       "      <th></th>\n",
       "      <th>charge_code</th>\n",
       "      <th>price</th>\n",
       "      <th>description</th>\n",
       "      <th>hospital_id</th>\n",
       "      <th>filename</th>\n",
       "      <th>charge_type</th>\n",
       "    </tr>\n",
       "  </thead>\n",
       "  <tbody>\n",
       "    <tr>\n",
       "      <th>0</th>\n",
       "      <td>NaN</td>\n",
       "      <td>1980</td>\n",
       "      <td>Adult semi-private (up to two patients) room a...</td>\n",
       "      <td>university-of-virginia-medical-center</td>\n",
       "      <td>university-of-virginia-medical-center.csv</td>\n",
       "      <td>standard</td>\n",
       "    </tr>\n",
       "    <tr>\n",
       "      <th>1</th>\n",
       "      <td>NaN</td>\n",
       "      <td>1980</td>\n",
       "      <td>Adult room and care in the Transitional Care H...</td>\n",
       "      <td>university-of-virginia-medical-center</td>\n",
       "      <td>university-of-virginia-medical-center.csv</td>\n",
       "      <td>standard</td>\n",
       "    </tr>\n",
       "    <tr>\n",
       "      <th>2</th>\n",
       "      <td>NaN</td>\n",
       "      <td>2310</td>\n",
       "      <td>Adult room and care on the Labor &amp; Delivery unit</td>\n",
       "      <td>university-of-virginia-medical-center</td>\n",
       "      <td>university-of-virginia-medical-center.csv</td>\n",
       "      <td>standard</td>\n",
       "    </tr>\n",
       "    <tr>\n",
       "      <th>3</th>\n",
       "      <td>NaN</td>\n",
       "      <td>1980</td>\n",
       "      <td>Pediatric room and care</td>\n",
       "      <td>university-of-virginia-medical-center</td>\n",
       "      <td>university-of-virginia-medical-center.csv</td>\n",
       "      <td>standard</td>\n",
       "    </tr>\n",
       "    <tr>\n",
       "      <th>4</th>\n",
       "      <td>NaN</td>\n",
       "      <td>2448</td>\n",
       "      <td>Psychiatric room and care</td>\n",
       "      <td>university-of-virginia-medical-center</td>\n",
       "      <td>university-of-virginia-medical-center.csv</td>\n",
       "      <td>standard</td>\n",
       "    </tr>\n",
       "  </tbody>\n",
       "</table>\n",
       "</div>"
      ],
      "text/plain": [
       "  charge_code price                                        description  \\\n",
       "0         NaN  1980  Adult semi-private (up to two patients) room a...   \n",
       "1         NaN  1980  Adult room and care in the Transitional Care H...   \n",
       "2         NaN  2310   Adult room and care on the Labor & Delivery unit   \n",
       "3         NaN  1980                            Pediatric room and care   \n",
       "4         NaN  2448                          Psychiatric room and care   \n",
       "\n",
       "                             hospital_id  \\\n",
       "0  university-of-virginia-medical-center   \n",
       "1  university-of-virginia-medical-center   \n",
       "2  university-of-virginia-medical-center   \n",
       "3  university-of-virginia-medical-center   \n",
       "4  university-of-virginia-medical-center   \n",
       "\n",
       "                                    filename charge_type  \n",
       "0  university-of-virginia-medical-center.csv    standard  \n",
       "1  university-of-virginia-medical-center.csv    standard  \n",
       "2  university-of-virginia-medical-center.csv    standard  \n",
       "3  university-of-virginia-medical-center.csv    standard  \n",
       "4  university-of-virginia-medical-center.csv    standard  "
      ]
     },
     "execution_count": 4,
     "metadata": {},
     "output_type": "execute_result"
    }
   ],
   "source": [
    "df.head()"
   ]
  },
  {
   "cell_type": "code",
   "execution_count": 5,
   "metadata": {
    "ExecuteTime": {
     "end_time": "2019-04-23T18:38:03.513070Z",
     "start_time": "2019-04-23T18:37:52.205844Z"
    },
    "scrolled": true
   },
   "outputs": [
    {
     "data": {
      "text/html": [
       "<div>\n",
       "<style scoped>\n",
       "    .dataframe tbody tr th:only-of-type {\n",
       "        vertical-align: middle;\n",
       "    }\n",
       "\n",
       "    .dataframe tbody tr th {\n",
       "        vertical-align: top;\n",
       "    }\n",
       "\n",
       "    .dataframe thead th {\n",
       "        text-align: right;\n",
       "    }\n",
       "</style>\n",
       "<table border=\"1\" class=\"dataframe\">\n",
       "  <thead>\n",
       "    <tr style=\"text-align: right;\">\n",
       "      <th></th>\n",
       "      <th>number of unique values</th>\n",
       "      <th>fraction of all non-null values</th>\n",
       "      <th>make categorical?</th>\n",
       "      <th>data type</th>\n",
       "    </tr>\n",
       "  </thead>\n",
       "  <tbody>\n",
       "    <tr>\n",
       "      <th>charge_code</th>\n",
       "      <td>1615754</td>\n",
       "      <td>0.25</td>\n",
       "      <td>True</td>\n",
       "      <td>object</td>\n",
       "    </tr>\n",
       "    <tr>\n",
       "      <th>price</th>\n",
       "      <td>651547</td>\n",
       "      <td>0.10</td>\n",
       "      <td>True</td>\n",
       "      <td>object</td>\n",
       "    </tr>\n",
       "    <tr>\n",
       "      <th>description</th>\n",
       "      <td>2477488</td>\n",
       "      <td>0.38</td>\n",
       "      <td>True</td>\n",
       "      <td>object</td>\n",
       "    </tr>\n",
       "    <tr>\n",
       "      <th>hospital_id</th>\n",
       "      <td>379</td>\n",
       "      <td>0.00</td>\n",
       "      <td>True</td>\n",
       "      <td>object</td>\n",
       "    </tr>\n",
       "    <tr>\n",
       "      <th>filename</th>\n",
       "      <td>705</td>\n",
       "      <td>0.00</td>\n",
       "      <td>True</td>\n",
       "      <td>object</td>\n",
       "    </tr>\n",
       "    <tr>\n",
       "      <th>charge_type</th>\n",
       "      <td>12</td>\n",
       "      <td>0.00</td>\n",
       "      <td>True</td>\n",
       "      <td>object</td>\n",
       "    </tr>\n",
       "  </tbody>\n",
       "</table>\n",
       "</div>"
      ],
      "text/plain": [
       "             number of unique values  fraction of all non-null values  \\\n",
       "charge_code                  1615754                             0.25   \n",
       "price                         651547                             0.10   \n",
       "description                  2477488                             0.38   \n",
       "hospital_id                      379                             0.00   \n",
       "filename                         705                             0.00   \n",
       "charge_type                       12                             0.00   \n",
       "\n",
       "             make categorical? data type  \n",
       "charge_code               True    object  \n",
       "price                     True    object  \n",
       "description               True    object  \n",
       "hospital_id               True    object  \n",
       "filename                  True    object  \n",
       "charge_type               True    object  "
      ]
     },
     "execution_count": 5,
     "metadata": {},
     "output_type": "execute_result"
    }
   ],
   "source": [
    "# First, let's get a better handle on unique values, so we can figure out what fields make\n",
    "# sense as categoricals and what ones definitely don't\n",
    "\n",
    "unique_vals = pd.DataFrame(df.nunique()).rename(columns = {0: 'number of unique values'})\n",
    "unique_vals['fraction of all non-null values'] = round(unique_vals['number of unique values'] / len(df.dropna()), 2)\n",
    "unique_vals['make categorical?'] = unique_vals['fraction of all non-null values'] < 0.5\n",
    "unique_vals['data type'] = df.dtypes\n",
    "unique_vals"
   ]
  },
  {
   "cell_type": "code",
   "execution_count": 6,
   "metadata": {
    "ExecuteTime": {
     "end_time": "2019-04-23T18:38:07.308411Z",
     "start_time": "2019-04-23T18:38:03.515778Z"
    }
   },
   "outputs": [
    {
     "data": {
      "text/html": [
       "<div>\n",
       "<style scoped>\n",
       "    .dataframe tbody tr th:only-of-type {\n",
       "        vertical-align: middle;\n",
       "    }\n",
       "\n",
       "    .dataframe tbody tr th {\n",
       "        vertical-align: top;\n",
       "    }\n",
       "\n",
       "    .dataframe thead th {\n",
       "        text-align: right;\n",
       "    }\n",
       "</style>\n",
       "<table border=\"1\" class=\"dataframe\">\n",
       "  <thead>\n",
       "    <tr style=\"text-align: right;\">\n",
       "      <th></th>\n",
       "      <th>number of unique values</th>\n",
       "      <th>fraction of all non-null values</th>\n",
       "      <th>make categorical?</th>\n",
       "      <th>data type</th>\n",
       "    </tr>\n",
       "  </thead>\n",
       "  <tbody>\n",
       "    <tr>\n",
       "      <th>charge_code</th>\n",
       "      <td>1615754</td>\n",
       "      <td>0.25</td>\n",
       "      <td>True</td>\n",
       "      <td>object</td>\n",
       "    </tr>\n",
       "    <tr>\n",
       "      <th>price</th>\n",
       "      <td>651547</td>\n",
       "      <td>0.10</td>\n",
       "      <td>True</td>\n",
       "      <td>object</td>\n",
       "    </tr>\n",
       "    <tr>\n",
       "      <th>description</th>\n",
       "      <td>2477488</td>\n",
       "      <td>0.38</td>\n",
       "      <td>True</td>\n",
       "      <td>object</td>\n",
       "    </tr>\n",
       "    <tr>\n",
       "      <th>hospital_id</th>\n",
       "      <td>379</td>\n",
       "      <td>0.00</td>\n",
       "      <td>True</td>\n",
       "      <td>object</td>\n",
       "    </tr>\n",
       "    <tr>\n",
       "      <th>filename</th>\n",
       "      <td>705</td>\n",
       "      <td>0.00</td>\n",
       "      <td>True</td>\n",
       "      <td>object</td>\n",
       "    </tr>\n",
       "    <tr>\n",
       "      <th>charge_type</th>\n",
       "      <td>12</td>\n",
       "      <td>0.00</td>\n",
       "      <td>True</td>\n",
       "      <td>object</td>\n",
       "    </tr>\n",
       "  </tbody>\n",
       "</table>\n",
       "</div>"
      ],
      "text/plain": [
       "             number of unique values  fraction of all non-null values  \\\n",
       "charge_code                  1615754                             0.25   \n",
       "price                         651547                             0.10   \n",
       "description                  2477488                             0.38   \n",
       "hospital_id                      379                             0.00   \n",
       "filename                         705                             0.00   \n",
       "charge_type                       12                             0.00   \n",
       "\n",
       "             make categorical? data type  \n",
       "charge_code               True    object  \n",
       "price                     True    object  \n",
       "description               True    object  \n",
       "hospital_id               True    object  \n",
       "filename                  True    object  \n",
       "charge_type               True    object  "
      ]
     },
     "execution_count": 6,
     "metadata": {},
     "output_type": "execute_result"
    }
   ],
   "source": [
    "unique_vals['fraction of all non-null values'] = round(unique_vals['number of unique values'] / len(df.dropna()), 2)\n",
    "unique_vals"
   ]
  },
  {
   "cell_type": "markdown",
   "metadata": {},
   "source": [
    "**Interesting. There are so many records with repeat information that we can change the dtype of pretty much all of them to be categorical.** Here's what we're going to do:\n",
    "\n",
    "1. `charge_code`, `price`, and `description`: I'm not going to convert these to categoricals\n",
    "    * `charge_code` and `description`: while from a data perspective these would likely be better handled in memory by making anything categorical that has so few unique values that the count of them is less than 50% of the count of all non-null rows, it doesn't make sense to make these fields categoricals, as that implies they are drawing from a common data reference. **That's simply not the case.** \n",
    "        * Given that two different hospitals can have the charge code `1001` refer to two totally different procedures/consumables, there's no reason to add confusion by treating these in the dataset like they have the same meaning. \n",
    "        * The same logic goes for the description field (although that one has me scratching my head a bit, as I'd expect it to be a bit more free text in nature and thus not likely to have repeated values)\n",
    "    * `price`: this should be a continuous variable, not a categorical one!\n",
    "2. `hospital_id`, `filename`, and `charge_type`: these are classic examples of categorical variables and we should convert them."
   ]
  },
  {
   "cell_type": "markdown",
   "metadata": {},
   "source": [
    "### Categorically Annoying"
   ]
  },
  {
   "cell_type": "code",
   "execution_count": 7,
   "metadata": {
    "ExecuteTime": {
     "end_time": "2019-04-23T18:38:13.469617Z",
     "start_time": "2019-04-23T18:38:07.315134Z"
    },
    "scrolled": true
   },
   "outputs": [
    {
     "data": {
      "text/plain": [
       "Index(['drg', 'inpatient', 'insurance', 'insured-inpatient',\n",
       "       'insured-outpatient', 'outpatient', 'pharmacy', 'standard', 'supply',\n",
       "       'uninsured', 'uninsured-inpatient', 'uninsured-outpatient'],\n",
       "      dtype='object')"
      ]
     },
     "execution_count": 7,
     "metadata": {},
     "output_type": "execute_result"
    }
   ],
   "source": [
    "# Make categorical columns where appropriate\n",
    "cat_cols = ['hospital_id', 'filename', 'charge_type']\n",
    "\n",
    "for col in cat_cols:\n",
    "    df.loc[:, col] = df.loc[:, col].astype('category')\n",
    "\n",
    "df['charge_type'].cat.categories"
   ]
  },
  {
   "cell_type": "code",
   "execution_count": 8,
   "metadata": {
    "ExecuteTime": {
     "end_time": "2019-04-23T18:38:33.752821Z",
     "start_time": "2019-04-23T18:38:13.472991Z"
    },
    "scrolled": true
   },
   "outputs": [
    {
     "name": "stdout",
     "output_type": "stream",
     "text": [
      "<class 'pandas.core.frame.DataFrame'>\n",
      "Int64Index: 9907857 entries, 0 to 9907856\n",
      "Data columns (total 6 columns):\n",
      "charge_code    6563312 non-null object\n",
      "price          8735057 non-null object\n",
      "description    8745419 non-null object\n",
      "hospital_id    9888293 non-null category\n",
      "filename       9907857 non-null category\n",
      "charge_type    9907857 non-null category\n",
      "dtypes: category(3), object(3)\n",
      "memory usage: 1.9 GB\n"
     ]
    }
   ],
   "source": [
    "df.info(memory_usage = 'deep', verbose = True, null_counts = True)"
   ]
  },
  {
   "cell_type": "markdown",
   "metadata": {},
   "source": [
    "**Nice! We cut the memory usage in half!** OK, on to less obvious optimizing!"
   ]
  },
  {
   "cell_type": "markdown",
   "metadata": {},
   "source": [
    "### Description and Charge Code Fields"
   ]
  },
  {
   "cell_type": "code",
   "execution_count": 9,
   "metadata": {
    "ExecuteTime": {
     "end_time": "2019-04-23T18:38:35.735588Z",
     "start_time": "2019-04-23T18:38:33.755561Z"
    },
    "scrolled": true
   },
   "outputs": [
    {
     "data": {
      "text/html": [
       "<div>\n",
       "<style scoped>\n",
       "    .dataframe tbody tr th:only-of-type {\n",
       "        vertical-align: middle;\n",
       "    }\n",
       "\n",
       "    .dataframe tbody tr th {\n",
       "        vertical-align: top;\n",
       "    }\n",
       "\n",
       "    .dataframe thead th {\n",
       "        text-align: right;\n",
       "    }\n",
       "</style>\n",
       "<table border=\"1\" class=\"dataframe\">\n",
       "  <thead>\n",
       "    <tr style=\"text-align: right;\">\n",
       "      <th></th>\n",
       "      <th>total missing</th>\n",
       "      <th>percent missing</th>\n",
       "    </tr>\n",
       "  </thead>\n",
       "  <tbody>\n",
       "    <tr>\n",
       "      <th>charge_code</th>\n",
       "      <td>3344545</td>\n",
       "      <td>0.34</td>\n",
       "    </tr>\n",
       "    <tr>\n",
       "      <th>price</th>\n",
       "      <td>1172800</td>\n",
       "      <td>0.12</td>\n",
       "    </tr>\n",
       "    <tr>\n",
       "      <th>description</th>\n",
       "      <td>1162438</td>\n",
       "      <td>0.12</td>\n",
       "    </tr>\n",
       "    <tr>\n",
       "      <th>hospital_id</th>\n",
       "      <td>19564</td>\n",
       "      <td>0.00</td>\n",
       "    </tr>\n",
       "    <tr>\n",
       "      <th>filename</th>\n",
       "      <td>0</td>\n",
       "      <td>0.00</td>\n",
       "    </tr>\n",
       "    <tr>\n",
       "      <th>charge_type</th>\n",
       "      <td>0</td>\n",
       "      <td>0.00</td>\n",
       "    </tr>\n",
       "  </tbody>\n",
       "</table>\n",
       "</div>"
      ],
      "text/plain": [
       "             total missing  percent missing\n",
       "charge_code        3344545             0.34\n",
       "price              1172800             0.12\n",
       "description        1162438             0.12\n",
       "hospital_id          19564             0.00\n",
       "filename                 0             0.00\n",
       "charge_type              0             0.00"
      ]
     },
     "execution_count": 9,
     "metadata": {},
     "output_type": "execute_result"
    }
   ],
   "source": [
    "# What do our missing values look like? How sparse are these data?\n",
    "\n",
    "missing = pd.DataFrame(df.isnull().sum()).rename(columns = {0: 'total missing'})\n",
    "missing['percent missing'] = round(missing['total missing'] / len(df),2)\n",
    "missing.sort_values('total missing', ascending = False)\n",
    "missing"
   ]
  },
  {
   "cell_type": "markdown",
   "metadata": {},
   "source": [
    "**Looks like we have description text for all but 12% of the data.** Not bad."
   ]
  },
  {
   "cell_type": "code",
   "execution_count": 10,
   "metadata": {
    "ExecuteTime": {
     "end_time": "2019-04-23T18:38:40.208267Z",
     "start_time": "2019-04-23T18:38:35.738120Z"
    }
   },
   "outputs": [
    {
     "data": {
      "text/plain": [
       "count     6563312\n",
       "unique    1615754\n",
       "top          1001\n",
       "freq        67961\n",
       "Name: charge_code, dtype: object"
      ]
     },
     "execution_count": 10,
     "metadata": {},
     "output_type": "execute_result"
    }
   ],
   "source": [
    "# How often do charge codes exist?\n",
    "df['charge_code'].describe()"
   ]
  },
  {
   "cell_type": "code",
   "execution_count": 11,
   "metadata": {
    "ExecuteTime": {
     "end_time": "2019-04-23T18:38:44.145909Z",
     "start_time": "2019-04-23T18:38:40.210588Z"
    },
    "scrolled": true
   },
   "outputs": [
    {
     "data": {
      "text/plain": [
       "1001                                                                                                                                                                                                                                                                                                               67961\n",
       "C1776                                                                                                                                                                                                                                                                                                              39701\n",
       "301.0                                                                                                                                                                                                                                                                                                              28355\n",
       "361.0                                                                                                                                                                                                                                                                                                              28317\n",
       "0272                                                                                                                                                                                                                                                                                                               20236\n",
       "320.0                                                                                                                                                                                                                                                                                                              19353\n",
       "27800037                                                                                                                                                                                                                                                                                                           14758\n",
       "306.0                                                                                                                                                                                                                                                                                                              11900\n",
       "C1713                                                                                                                                                                                                                                                                                                              11710\n",
       "0278                                                                                                                                                                                                                                                                                                               11686\n",
       "302.0                                                                                                                                                                                                                                                                                                              10663\n",
       "272.0                                                                                                                                                                                                                                                                                                              10116\n",
       "27800002                                                                                                                                                                                                                                                                                                           10090\n",
       "250.0                                                                                                                                                                                                                                                                                                               9924\n",
       "J3490                                                                                                                                                                                                                                                                                                               9693\n",
       "278.0                                                                                                                                                                                                                                                                                                               9599\n",
       "510.0                                                                                                                                                                                                                                                                                                               8757\n",
       "27200178                                                                                                                                                                                                                                                                                                            8461\n",
       "360.0                                                                                                                                                                                                                                                                                                               7690\n",
       "270.0                                                                                                                                                                                                                                                                                                               7662\n",
       "0761                                                                                                                                                                                                                                                                                                                7466\n",
       "0360                                                                                                                                                                                                                                                                                                                6598\n",
       "27800072                                                                                                                                                                                                                                                                                                            6393\n",
       "0270                                                                                                                                                                                                                                                                                                                5662\n",
       "63700001                                                                                                                                                                                                                                                                                                            5554\n",
       "0301                                                                                                                                                                                                                                                                                                                5509\n",
       "305.0                                                                                                                                                                                                                                                                                                               5216\n",
       "27200030                                                                                                                                                                                                                                                                                                            4826\n",
       "SCREW                                                                                                                                                                                                                                                                                                               4725\n",
       "610.0                                                                                                                                                                                                                                                                                                               4485\n",
       "                                                                                                                                                                                                                                                                                                                   ...  \n",
       "421250                                                                                                                                                                                                                                                                                                                 1\n",
       "79833133                                                                                                                                                                                                                                                                                                               1\n",
       "3008637600                                                                                                                                                                                                                                                                                                             1\n",
       "8134465                                                                                                                                                                                                                                                                                                                1\n",
       "894175                                                                                                                                                                                                                                                                                                                 1\n",
       "40185.0                                                                                                                                                                                                                                                                                                                1\n",
       "1092578                                                                                                                                                                                                                                                                                                                1\n",
       "93927921                                                                                                                                                                                                                                                                                                               1\n",
       "003160                                                                                                                                                                                                                                                                                                                 1\n",
       "33515100                                                                                                                                                                                                                                                                                                               1\n",
       "46020012                                                                                                                                                                                                                                                                                                               1\n",
       "841020                                                                                                                                                                                                                                                                                                                 1\n",
       "S293148                                                                                                                                                                                                                                                                                                                1\n",
       "5002417.0                                                                                                                                                                                                                                                                                                              1\n",
       "92216576                                                                                                                                                                                                                                                                                                               1\n",
       "78604352                                                                                                                                                                                                                                                                                                               1\n",
       "Description                               Esophagitis, Gastroent  Misc Digest Disorders ...\\nTypical Charges                                                                    $50,743 \\nAverage Insured Patient Responsibility                                                $357 \\nName: 190, dtype: object        1\n",
       "5055989                                                                                                                                                                                                                                                                                                                1\n",
       "NIT32                                                                                                                                                                                                                                                                                                                  1\n",
       "320-1025                                                                                                                                                                                                                                                                                                               1\n",
       "90000754                                                                                                                                                                                                                                                                                                               1\n",
       "32121201.0                                                                                                                                                                                                                                                                                                             1\n",
       "Description                               Complications Of Treatment W Cc\\nTypical Charges                                                  $30,900 \\nAverage Insured Patient Responsibility                              $361 \\nName: 134, dtype: object                                                              1\n",
       "54800883                                                                                                                                                                                                                                                                                                               1\n",
       "630693                                                                                                                                                                                                                                                                                                                 1\n",
       "439-0458                                                                                                                                                                                                                                                                                                               1\n",
       "67253018110.0                                                                                                                                                                                                                                                                                                          1\n",
       "54121018                                                                                                                                                                                                                                                                                                               1\n",
       " 8000023                                                                                                                                                                                                                                                                                                               1\n",
       "4448316                                                                                                                                                                                                                                                                                                                1\n",
       "Name: charge_code, Length: 1615754, dtype: int64"
      ]
     },
     "execution_count": 11,
     "metadata": {},
     "output_type": "execute_result"
    }
   ],
   "source": [
    "df['charge_code'].value_counts()"
   ]
  },
  {
   "cell_type": "markdown",
   "metadata": {},
   "source": [
    "**Quite a few different charge codes, with lots of different possible values.** Given that charge codes are likely a somewhat-random \"unique\" identifiers (air quotes because I'm suspicious of any large entity's data management practices until that suspicion is proven unwarranted). Nothing to see here.\n",
    "\n",
    "*OK, let's get to the meat of it, the thing that's actually most interesting (arguably): the price!*"
   ]
  },
  {
   "cell_type": "markdown",
   "metadata": {},
   "source": [
    "### The Price Column, AKA The Super Important Yet Extremely Messy Column"
   ]
  },
  {
   "cell_type": "code",
   "execution_count": 12,
   "metadata": {
    "ExecuteTime": {
     "end_time": "2019-04-23T18:38:46.382552Z",
     "start_time": "2019-04-23T18:38:44.150265Z"
    },
    "scrolled": true
   },
   "outputs": [
    {
     "data": {
      "text/plain": [
       "<class 'str'>    8735057\n",
       "Name: price, dtype: int64"
      ]
     },
     "execution_count": 12,
     "metadata": {},
     "output_type": "execute_result"
    }
   ],
   "source": [
    "# Separate out only the price rows that are non-numeric\n",
    "\n",
    "df['price'].dropna().apply(type).value_counts()"
   ]
  },
  {
   "cell_type": "markdown",
   "metadata": {},
   "source": [
    "**So about half of the non-null prices are `str` type.** Now we need to figure out what those strings actually are."
   ]
  },
  {
   "cell_type": "code",
   "execution_count": 13,
   "metadata": {
    "ExecuteTime": {
     "end_time": "2019-04-23T18:38:48.165907Z",
     "start_time": "2019-04-23T18:38:46.386552Z"
    },
    "scrolled": true
   },
   "outputs": [
    {
     "data": {
      "text/plain": [
       "0               1980\n",
       "1               1980\n",
       "2               2310\n",
       "3               1980\n",
       "4               2448\n",
       "5               1980\n",
       "6               3917\n",
       "7               6272\n",
       "8               8010\n",
       "9               8010\n",
       "10              8010\n",
       "11              6272\n",
       "12              3971\n",
       "13               356\n",
       "14               587\n",
       "15               940\n",
       "16              1535\n",
       "17              2808\n",
       "18              4128\n",
       "19               114\n",
       "20               207\n",
       "21               303\n",
       "22               358\n",
       "23               441\n",
       "24               140\n",
       "25               140\n",
       "26               140\n",
       "27               303\n",
       "28               358\n",
       "29               441\n",
       "             ...    \n",
       "9907827     42609.08\n",
       "9907828     17784.24\n",
       "9907829      53461.5\n",
       "9907830     29037.21\n",
       "9907831     41134.92\n",
       "9907832     44698.45\n",
       "9907833     18743.77\n",
       "9907834     57341.27\n",
       "9907835     17131.68\n",
       "9907836     25042.51\n",
       "9907837    120471.76\n",
       "9907838       1393.0\n",
       "9907839     22365.63\n",
       "9907840     24346.83\n",
       "9907841     11872.24\n",
       "9907842     81348.51\n",
       "9907843     61470.69\n",
       "9907844     44314.73\n",
       "9907845     89398.38\n",
       "9907846     55705.62\n",
       "9907847     66399.91\n",
       "9907848      14493.3\n",
       "9907849     29557.59\n",
       "9907850     90269.03\n",
       "9907851     39094.68\n",
       "9907852    113699.36\n",
       "9907853     91145.59\n",
       "9907854    101386.94\n",
       "9907855       4701.0\n",
       "9907856     67846.66\n",
       "Name: price, Length: 8735057, dtype: object"
      ]
     },
     "execution_count": 13,
     "metadata": {},
     "output_type": "execute_result"
    }
   ],
   "source": [
    "# Look at only string prices\n",
    "\n",
    "df.loc[df['price'].apply(type) == str,'price']"
   ]
  },
  {
   "cell_type": "markdown",
   "metadata": {
    "ExecuteTime": {
     "end_time": "2019-04-18T21:16:14.288910Z",
     "start_time": "2019-04-18T21:16:14.158187Z"
    }
   },
   "source": [
    "**Huh, how odd. These strings all look like regular old float values.** Why is pandas importing them as strings? Let's force the column to be float type and then we'll see how our missing values change (since we can force non-numeric strings to be `NaN`)"
   ]
  },
  {
   "cell_type": "code",
   "execution_count": 14,
   "metadata": {
    "ExecuteTime": {
     "end_time": "2019-04-23T18:38:50.992396Z",
     "start_time": "2019-04-23T18:38:48.167959Z"
    }
   },
   "outputs": [
    {
     "data": {
      "text/plain": [
       "294073"
      ]
     },
     "execution_count": 14,
     "metadata": {},
     "output_type": "execute_result"
    }
   ],
   "source": [
    "# Convert price to be float type, then see if missing['total_missing'] changes\n",
    "\n",
    "missing_price_initial = missing.loc['price','total missing']\n",
    "\n",
    "delta = pd.to_numeric(df['price'], errors = 'coerce').isnull().sum() - missing_price_initial\n",
    "delta"
   ]
  },
  {
   "cell_type": "markdown",
   "metadata": {},
   "source": [
    "**OK, so we see about 300K of the 4.67M string values become `NaN` when we do this numeric conversion. That's not ideal.** Looks like we're losing a lot of data with this conversion, is there a better way? Or should we just consider this an acceptable loss?"
   ]
  },
  {
   "cell_type": "code",
   "execution_count": 15,
   "metadata": {
    "ExecuteTime": {
     "end_time": "2019-04-23T18:38:53.815913Z",
     "start_time": "2019-04-23T18:38:50.995126Z"
    },
    "scrolled": true
   },
   "outputs": [
    {
     "data": {
      "text/plain": [
       "762340      5,000\n",
       "762342      1,768\n",
       "762348      8,332\n",
       "762349      2,758\n",
       "762350      1,581\n",
       "762352      2,126\n",
       "762353      1,457\n",
       "762357      2,125\n",
       "762358      1,689\n",
       "762361      4,949\n",
       "762363      2,773\n",
       "762364     13,801\n",
       "762365      7,425\n",
       "762366      8,035\n",
       "762367      7,996\n",
       "762370     32,926\n",
       "762371     19,395\n",
       "762372      2,831\n",
       "762373     10,695\n",
       "762400      1,019\n",
       "762401      1,019\n",
       "762406      1,248\n",
       "762409      1,114\n",
       "762414      4,519\n",
       "762416      4,557\n",
       "762419      6,418\n",
       "762420     27,404\n",
       "762421      8,976\n",
       "762422      1,458\n",
       "762423      6,418\n",
       "            ...  \n",
       "9897874      -   \n",
       "9897876      -   \n",
       "9897884      -   \n",
       "9897902      -   \n",
       "9897903      -   \n",
       "9897912      -   \n",
       "9897926      -   \n",
       "9897945      -   \n",
       "9897977      -   \n",
       "9897978      -   \n",
       "9898026      -   \n",
       "9898027      -   \n",
       "9898034      -   \n",
       "9898037      -   \n",
       "9898038      -   \n",
       "9898041      -   \n",
       "9898042      -   \n",
       "9898052      -   \n",
       "9898057      -   \n",
       "9898058      -   \n",
       "9898070      -   \n",
       "9898081      -   \n",
       "9898086      -   \n",
       "9898096      -   \n",
       "9898304      -   \n",
       "9898308      -   \n",
       "9898310      -   \n",
       "9898311      -   \n",
       "9898324      -   \n",
       "9898325      -   \n",
       "Name: price, Length: 1466873, dtype: object"
      ]
     },
     "execution_count": 15,
     "metadata": {},
     "output_type": "execute_result"
    }
   ],
   "source": [
    "# How to filter so we can see a sample of the ~300K true non-float strings in price\n",
    "# so we can get an idea as to how to deal with them?\n",
    "\n",
    "# Show only the prices that are null after numeric conversion\n",
    "df.loc[pd.to_numeric(df['price'], errors = 'coerce').isnull(), 'price']"
   ]
  },
  {
   "cell_type": "markdown",
   "metadata": {},
   "source": [
    "**Ah, I see the issues here! We've got commas making numbers look like they're not numbers, and this weird ' -   ' string that must be a certain hospitals equivalent of `null`.** Let's correct for these!\n",
    "\n",
    "The `null` string is one space, following by a hyphen and three spaces."
   ]
  },
  {
   "cell_type": "code",
   "execution_count": 16,
   "metadata": {
    "ExecuteTime": {
     "end_time": "2019-04-23T18:38:54.284222Z",
     "start_time": "2019-04-23T18:38:53.818769Z"
    }
   },
   "outputs": [],
   "source": [
    "# Set ' -   ' to proper NaN\n",
    "\n",
    "import numpy as np\n",
    "\n",
    "df['price'].replace(' -   ', np.nan, inplace = True)"
   ]
  },
  {
   "cell_type": "code",
   "execution_count": 17,
   "metadata": {
    "ExecuteTime": {
     "end_time": "2019-04-23T18:39:01.848311Z",
     "start_time": "2019-04-23T18:38:54.285879Z"
    },
    "scrolled": true
   },
   "outputs": [
    {
     "data": {
      "text/plain": [
       "762340                      5,000\n",
       "762342                      1,768\n",
       "762348                      8,332\n",
       "762349                      2,758\n",
       "762350                      1,581\n",
       "762352                      2,126\n",
       "762353                      1,457\n",
       "762357                      2,125\n",
       "762358                      1,689\n",
       "762361                      4,949\n",
       "762363                      2,773\n",
       "762364                     13,801\n",
       "762365                      7,425\n",
       "762366                      8,035\n",
       "762367                      7,996\n",
       "762370                     32,926\n",
       "762371                     19,395\n",
       "762372                      2,831\n",
       "762373                     10,695\n",
       "762400                      1,019\n",
       "762401                      1,019\n",
       "762406                      1,248\n",
       "762409                      1,114\n",
       "762414                      4,519\n",
       "762416                      4,557\n",
       "762419                      6,418\n",
       "762420                     27,404\n",
       "762421                      8,976\n",
       "762422                      1,458\n",
       "762423                      6,418\n",
       "                    ...          \n",
       "9736567     $1,104.00 - $1,421.00\n",
       "9736572     $1,479.00 - $1,904.00\n",
       "9736573       $900.00 - $1,159.00\n",
       "9736574     $1,146.00 - $1,476.00\n",
       "9736600     $1,700.00 - $2,189.00\n",
       "9736601     $1,824.00 - $2,348.00\n",
       "9736602     $2,201.00 - $2,834.00\n",
       "9736603     $1,498.00 - $1,929.00\n",
       "9737129       $599.00 - $1,112.00\n",
       "9737177       $881.00 - $1,320.00\n",
       "9737726        $5.71 - $10,500.00\n",
       "9737769       $990.00 - $1,485.00\n",
       "9737889         $1.00 - $9,600.00\n",
       "9737943       $812.00 - $1,506.00\n",
       "9737944       $696.00 - $1,292.00\n",
       "9737945     $1,461.00 - $2,191.00\n",
       "9737946       $743.00 - $1,114.00\n",
       "9737956       $11.64 - $11,700.00\n",
       "9737957     $1,414.00 - $2,626.00\n",
       "9737964     $1,274.00 - $2,365.00\n",
       "9737994       $743.00 - $1,114.00\n",
       "9738010       $700.00 - $1,051.00\n",
       "9738125       $681.00 - $1,264.00\n",
       "9738329       $827.00 - $1,537.00\n",
       "9738463     $2,912.00 - $3,490.24\n",
       "9738465      $208.00 - $38,640.93\n",
       "9738528      $416.00 - $15,618.72\n",
       "9738585    $2,325.44 - $23,296.00\n",
       "9738655    $2,496.00 - $14,231.36\n",
       "9739988                 $2,416.41\n",
       "Name: price, Length: 39028, dtype: object"
      ]
     },
     "execution_count": 17,
     "metadata": {},
     "output_type": "execute_result"
    }
   ],
   "source": [
    "# What are the values that contain commas?\n",
    "\n",
    "df.loc[df['price'].str.contains(r'\\d,\\d', na = False), 'price']"
   ]
  },
  {
   "cell_type": "markdown",
   "metadata": {},
   "source": [
    "**Oh goodie, there are *ranges* of dollar amounts that we have to worry about!** Fantastic, just fantastic. These hospitals sure don't like making this easy, do they?\n",
    "\n",
    "Here's the plan:\n",
    "1. Strip dollar signs from all of these strings. They're superfluous and just make things complicated\n",
    "2. Split strings on the string ' - '\n",
    "3. Remove commas and cast results as float values\n",
    "    * Any rows with `NaN` for the second split column are just regular comma-in-the-thousands-place numbers. Leave them alone for the moment\n",
    "    * Any with non-null values in the second column: take the average of the two columns and overwrite the first column with the average. This midpoint value will be considered the useful estimate of the cost\n",
    "4. Push the first column values (now overwritten in the case of ranges of values to be the midpoints) back into their places in the `price` column and continue hunting for edge cases"
   ]
  },
  {
   "cell_type": "code",
   "execution_count": 18,
   "metadata": {
    "ExecuteTime": {
     "end_time": "2019-04-23T18:39:03.274111Z",
     "start_time": "2019-04-23T18:39:01.850605Z"
    }
   },
   "outputs": [],
   "source": [
    "# Replace effectively null prices with np.nan\n",
    "\n",
    "df.loc[df['price'] == '-', 'price'] = np.nan"
   ]
  },
  {
   "cell_type": "code",
   "execution_count": 19,
   "metadata": {
    "ExecuteTime": {
     "end_time": "2019-04-23T18:39:03.305978Z",
     "start_time": "2019-04-23T18:39:03.275743Z"
    }
   },
   "outputs": [],
   "source": [
    "def remove_silly_chars(row):\n",
    "    '''\n",
    "    It is assumed that this will be used as part of a Series.apply() call.\n",
    "    \n",
    "    Takes in an element of a pandas Series that should be a string representation \n",
    "    of a price or a range of prices and spits back the string without any thousands\n",
    "    separators (e.g. commas) or dollar signs. If it detects that there's a range of\n",
    "    prices being provided (e.g. $1.00 - $2.00), it returns the midpoint of the range.\n",
    "    \n",
    "    Parameters\n",
    "    ----------\n",
    "    row: str. The string representation of a price or range of prices.\n",
    "    \n",
    "    \n",
    "    Returns\n",
    "    -------\n",
    "    float. The price (or midpoint price if a range was given in row)\n",
    "    '''\n",
    "    \n",
    "    # Replace '$', ',', and '-' with empty strings, splitting on the hyphen\n",
    "    price_strings = row.replace('$','').replace(',','').split('-')\n",
    "    \n",
    "    \n",
    "    # Strip leading and trailing whitespace from list of split strings\n",
    "    # and take the average of the different prices from the original range,\n",
    "    # returning it as a float value\n",
    "    \n",
    "    # If ValueError raised, assume there were invalid characters and\n",
    "    # set to np.nan\n",
    "    \n",
    "    try:\n",
    "        return pd.Series([float(i.strip()) for i in price_strings]).mean()\n",
    "    \n",
    "    except ValueError: \n",
    "        return np.nan"
   ]
  },
  {
   "cell_type": "code",
   "execution_count": 20,
   "metadata": {
    "ExecuteTime": {
     "end_time": "2019-04-23T18:39:34.685789Z",
     "start_time": "2019-04-23T18:39:03.307898Z"
    },
    "scrolled": true
   },
   "outputs": [],
   "source": [
    "# When only digits + commas + $, convert to only digits\n",
    "# Also take average if multiple value range provided in string\n",
    "ix = df['price'].str.contains(r'\\d,\\d|\\$\\d', na=False, case=False)\n",
    "df.loc[ix, 'price'] = df.loc[ix,'price'].apply(remove_silly_chars)                             "
   ]
  },
  {
   "cell_type": "markdown",
   "metadata": {},
   "source": [
    "**OK, now that we've cleaned up a lot of those strings so that they can be proper floats, how many bad strings are we left with?** When we ran this check prior to the `$` and `,` cleaning process, we had about 300K records coming up as null after the numeric conversion that weren't null previously. What does it look like now?"
   ]
  },
  {
   "cell_type": "code",
   "execution_count": 21,
   "metadata": {
    "ExecuteTime": {
     "end_time": "2019-04-23T18:39:37.436970Z",
     "start_time": "2019-04-23T18:39:34.687756Z"
    }
   },
   "outputs": [
    {
     "data": {
      "text/plain": [
       "206898"
      ]
     },
     "execution_count": 21,
     "metadata": {},
     "output_type": "execute_result"
    }
   ],
   "source": [
    "# Convert price to be float type, then see if missing['total_missing'] changes\n",
    "\n",
    "missing_price_initial = missing.loc['price','total missing']\n",
    "\n",
    "delta = pd.to_numeric(df['price'], errors = 'coerce').isnull().sum() - missing_price_initial\n",
    "delta"
   ]
  },
  {
   "cell_type": "markdown",
   "metadata": {},
   "source": [
    "**SIGH. Now we're done to 200K, but that's not awesome.** At this point, I'm fine with it. We'll lose about 2.1% of these that may not appropriately be null (although most probably should be), but anything else I've tried to pare it down further actually makes things worse, so I say we're good now!"
   ]
  },
  {
   "cell_type": "code",
   "execution_count": 22,
   "metadata": {
    "ExecuteTime": {
     "end_time": "2019-04-23T18:39:40.654682Z",
     "start_time": "2019-04-23T18:39:37.440407Z"
    }
   },
   "outputs": [],
   "source": [
    "# Coerce any obvious float strings to floats\n",
    "df.loc[:, 'price'] = pd.to_numeric(df['price'], errors = 'coerce')"
   ]
  },
  {
   "cell_type": "code",
   "execution_count": 23,
   "metadata": {
    "ExecuteTime": {
     "end_time": "2019-04-23T18:39:54.738483Z",
     "start_time": "2019-04-23T18:39:40.656266Z"
    },
    "scrolled": true
   },
   "outputs": [
    {
     "name": "stdout",
     "output_type": "stream",
     "text": [
      "<class 'pandas.core.frame.DataFrame'>\n",
      "Int64Index: 9907857 entries, 0 to 9907856\n",
      "Data columns (total 6 columns):\n",
      "charge_code    6563312 non-null object\n",
      "price          8528159 non-null float64\n",
      "description    8745419 non-null object\n",
      "hospital_id    9888293 non-null category\n",
      "filename       9907857 non-null category\n",
      "charge_type    9907857 non-null category\n",
      "dtypes: category(3), float64(1), object(2)\n",
      "memory usage: 1.5 GB\n"
     ]
    }
   ],
   "source": [
    "df.info(memory_usage = 'deep', verbose = True, null_counts = True)"
   ]
  },
  {
   "cell_type": "code",
   "execution_count": 24,
   "metadata": {
    "ExecuteTime": {
     "end_time": "2019-04-23T18:39:55.263521Z",
     "start_time": "2019-04-23T18:39:54.741158Z"
    }
   },
   "outputs": [
    {
     "data": {
      "text/plain": [
       "count    8.528159e+06\n",
       "mean     8.959729e+06\n",
       "std      1.928350e+08\n",
       "min     -1.298600e+04\n",
       "25%      1.590300e+02\n",
       "50%      9.020000e+02\n",
       "75%      4.449000e+03\n",
       "max      1.000000e+10\n",
       "Name: price, dtype: float64"
      ]
     },
     "execution_count": 24,
     "metadata": {},
     "output_type": "execute_result"
    }
   ],
   "source": [
    "df['price'].describe()"
   ]
  },
  {
   "cell_type": "markdown",
   "metadata": {},
   "source": [
    "**Ah nuts, looks like we have some unreasonable ranges on these data.** If I had to guess, likely these are issues with non-price floats being inserted into the `price` column incorrectly by individual hospital chargemaster parsers. Let's take a quick look at these data, identify the outliers, and see if we can fix them (and what the magnitude of the problem is)."
   ]
  },
  {
   "cell_type": "code",
   "execution_count": 28,
   "metadata": {
    "ExecuteTime": {
     "end_time": "2019-04-23T18:49:27.751602Z",
     "start_time": "2019-04-23T18:49:23.884311Z"
    }
   },
   "outputs": [],
   "source": [
    "%config InlineBackend.figure_format = 'retina'\n",
    "%matplotlib inline\n",
    "\n",
    "import matplotlib.pyplot as plt\n",
    "import seaborn as sns"
   ]
  },
  {
   "cell_type": "code",
   "execution_count": 33,
   "metadata": {
    "ExecuteTime": {
     "end_time": "2019-04-23T18:54:18.455397Z",
     "start_time": "2019-04-23T18:54:15.886884Z"
    },
    "scrolled": true
   },
   "outputs": [
    {
     "data": {
      "image/png": "[encoded data removed]",
      "text/plain": [
       "<Figure size 432x288 with 1 Axes>"
      ]
     },
     "metadata": {
      "image/png": {
       "height": 263,
       "width": 375
      },
      "needs_background": "light"
     },
     "output_type": "display_data"
    }
   ],
   "source": [
    "g = sns.distplot(df['price'].dropna(), kde = False)\n",
    "\n",
    "g.axes.set_yscale('log')"
   ]
  },
  {
   "cell_type": "markdown",
   "metadata": {},
   "source": [
    "**WHOA. The x-axis goes up to \\\\$10B USD?!** I'm going to assume that this is unreasonable...\n",
    "\n",
    "In fact, looks like we have a non-trivial amount of data above \\\\$1B! That's ludicrous. Let's take a closer look in the \\\\$1M to \\\\$10B scale."
   ]
  },
  {
   "cell_type": "code",
   "execution_count": 52,
   "metadata": {
    "ExecuteTime": {
     "end_time": "2019-04-23T19:12:17.752485Z",
     "start_time": "2019-04-23T19:12:17.553781Z"
    }
   },
   "outputs": [
    {
     "data": {
      "text/plain": [
       "count    1.871500e+04\n",
       "mean     4.080677e+09\n",
       "std      5.740180e+08\n",
       "min      1.005042e+06\n",
       "25%      4.050066e+09\n",
       "50%      4.050233e+09\n",
       "75%      4.090032e+09\n",
       "max      1.000000e+10\n",
       "Name: price, dtype: float64"
      ]
     },
     "execution_count": 52,
     "metadata": {},
     "output_type": "execute_result"
    }
   ],
   "source": [
    "df.loc[(df['price'] >= 1E6) & (df['price'] <= 1E10), 'price'].describe()"
   ]
  },
  {
   "cell_type": "code",
   "execution_count": 55,
   "metadata": {
    "ExecuteTime": {
     "end_time": "2019-04-23T19:12:55.495855Z",
     "start_time": "2019-04-23T19:12:54.719012Z"
    },
    "scrolled": true
   },
   "outputs": [
    {
     "data": {
      "image/png": "[encoded data removed]",
      "text/plain": [
       "<Figure size 432x288 with 1 Axes>"
      ]
     },
     "metadata": {
      "image/png": {
       "height": 263,
       "width": 375
      },
      "needs_background": "light"
     },
     "output_type": "display_data"
    }
   ],
   "source": [
    "g = sns.distplot(df.loc[(df['price'] >= 1E6) & (df['price'] <= 1E10), 'price'].dropna(),\n",
    "                 kde=False)\n",
    "\n",
    "g.axes.set_yscale('log')"
   ]
  },
  {
   "cell_type": "code",
   "execution_count": 57,
   "metadata": {
    "ExecuteTime": {
     "end_time": "2019-04-23T19:17:03.735428Z",
     "start_time": "2019-04-23T19:17:03.541190Z"
    },
    "scrolled": true
   },
   "outputs": [
    {
     "data": {
      "text/plain": [
       "foothill-presbyterian-hospital                      18568\n",
       "uc-san-francisco-medical-center                        15\n",
       "temple-university-hospital                             14\n",
       "cedars-sinai-medical-center                            13\n",
       "university-of-iowa-hospitals-and-clinics                8\n",
       "university-of-colorado-hospital                         7\n",
       "thomas-jefferson-university-hospital                    6\n",
       "the-methodist-hospital-(houston)                        6\n",
       "new-york-presbyterian-hospital                          5\n",
       "chippenham-and-johnston-willis-medical-center           5\n",
       "COVENANT MEDICAL CENTER                                 4\n",
       "sunrise-hospital-and-medical-center                     4\n",
       "rainbow-babies-and-childrens-hospital                   4\n",
       "duke-raleigh-hospital                                   3\n",
       "duke-university-hospital                                3\n",
       "ronald-reagan-ucla-medical-center                       3\n",
       "swedish-medical-center                                  3\n",
       "BWH Standard Charge File.xlsx                           3\n",
       "MGH Standard Charge File.xlsx                           3\n",
       "duke-regional-hospital                                  3\n",
       "montefiore-medical-center                               3\n",
       "las-palmas-medical-center                               3\n",
       "grossmont-hospital                                      3\n",
       "communityu-regional-medical-center                      2\n",
       "resnick-neuropsychiatric-hosp-at-ucla                   2\n",
       "mount-sinai-hospital                                    2\n",
       "jfk-medical-center                                      2\n",
       "uc-irvine-medical-center                                2\n",
       "ohio-state-university-hospital                          2\n",
       "methodist-hospital-(san-antonio)                        2\n",
       "                                                    ...  \n",
       "kaiser-foundation-hospital---south-san-francisco        0\n",
       "kaiser-foundation-hospital---vacaville                  0\n",
       "kaiser-foundation-hospital---walnut-creek               0\n",
       "kaiser-foundation-hospital---west-l.a                   0\n",
       "kaiser-foundation-hospital---woodland-hills             0\n",
       "kaiser-foundation-northern-region                       0\n",
       "kaiser-foundation-rehab-hospital---vallejo              0\n",
       "kaiser-foundation-southern-region                       0\n",
       "kaiser-foundation-hospital---sacramento                 0\n",
       "kaiser-foundation-hospital---riverside                  0\n",
       "jackson-memorial                                        0\n",
       "kaiser-foundation-hospital---redwood-city               0\n",
       "john-c-fremont-healthcare-district                      0\n",
       "john-muir-behavioral-health                             0\n",
       "john-muir-medical-center---concord-campus               0\n",
       "john-muir-medical-center---walnut-creek-campus          0\n",
       "joyce-eisenberg-keefer-medical-center                   0\n",
       "kaiser-foundation-hospital---anaheim                    0\n",
       "kaiser-foundation-hospital---antioch                    0\n",
       "kaiser-foundation-hospital---baldwin-park               0\n",
       "kaiser-foundation-hospital---downey                     0\n",
       "kaiser-foundation-hospital---fontana-ontario            0\n",
       "kaiser-foundation-hospital---fremont                    0\n",
       "kaiser-foundation-hospital---fresno                     0\n",
       "kaiser-foundation-hospital---los-angeles                0\n",
       "kaiser-foundation-hospital---manteca-modesto            0\n",
       "kaiser-foundation-hospital---moreno-valley              0\n",
       "kaiser-foundation-hospital---oakland-richmond           0\n",
       "kaiser-foundation-hospital---panorama-city              0\n",
       "& METABOL DIS W CC\"                                     0\n",
       "Name: hospital_id, Length: 379, dtype: int64"
      ]
     },
     "execution_count": 57,
     "metadata": {},
     "output_type": "execute_result"
    }
   ],
   "source": [
    "df.loc[(df['price'] >= 1E6) & (df['price'] <= 1E10), 'hospital_id'].value_counts()"
   ]
  },
  {
   "cell_type": "markdown",
   "metadata": {},
   "source": [
    "**OK, so it's pretty clear to me here that we have a problem hospital here (foothill-presbyterian-hospital).** For simplicity's sake, we may just need to drop them from the dataset, but I'll take a look at their data and see if a fix is possible (I think it's a matter of switching the `price` and `charge_code` column data). \n",
    "\n",
    "For the other hospitals, the counts are so low that we can probably parse those out manually to make sure they aren't nonsensical."
   ]
  },
  {
   "cell_type": "markdown",
   "metadata": {},
   "source": [
    "**TO DO**\n",
    "\n",
    "1. See if it's reasonable to switch `price` and `charge_code` data for foothill hospital. If it is, do so. If there's a problem, drop them from dataset.\n",
    "2. Check out the other hospitals in this price range and see if there are persistent problems with their `price` data too that need to be corrected.\n",
    "3. Look at how many records have `hospital_id` without any hyphens, like the last one in the list above. Clearly there's a problem with those...\n",
    "4. Once you're satisfied that the data are clean, script up an `import_data` file and start up a new analysis-focused Jupyter notebook.\n",
    "    * Subset by `charge_type == standard`\n",
    "    * Cluster based on `description` similarity, and assume those are similar procedures/consumables\n",
    "        * Figure out if there's a way to validate this\n",
    "    * Do some analyses on price spreads and trends among the different clusters/procedures/consumables\n",
    "    * Anything cool that can be predicted??"
   ]
  },
  {
   "cell_type": "code",
   "execution_count": null,
   "metadata": {},
   "outputs": [],
   "source": []
  }
 ],
 "metadata": {
  "kernelspec": {
   "display_name": "Python [conda env:HospitalPricing]",
   "language": "python",
   "name": "conda-env-HospitalPricing-py"
  },
  "language_info": {
   "codemirror_mode": {
    "name": "ipython",
    "version": 3
   },
   "file_extension": ".py",
   "mimetype": "text/x-python",
   "name": "python",
   "nbconvert_exporter": "python",
   "pygments_lexer": "ipython3",
   "version": "3.6.8"
  },
  "toc": {
   "base_numbering": 1,
   "nav_menu": {},
   "number_sections": true,
   "sideBar": true,
   "skip_h1_title": false,
   "title_cell": "Table of Contents",
   "title_sidebar": "Contents",
   "toc_cell": false,
   "toc_position": {
    "height": "calc(100% - 180px)",
    "left": "10px",
    "top": "150px",
    "width": "256px"
   },
   "toc_section_display": true,
   "toc_window_display": true
  },
  "varInspector": {
   "cols": {
    "lenName": 16,
    "lenType": 16,
    "lenVar": 40
   },
   "kernels_config": {
    "python": {
     "delete_cmd_postfix": "",
     "delete_cmd_prefix": "del ",
     "library": "var_list.py",
     "varRefreshCmd": "print(var_dic_list())"
    },
    "r": {
     "delete_cmd_postfix": ") ",
     "delete_cmd_prefix": "rm(",
     "library": "var_list.r",
     "varRefreshCmd": "cat(var_dic_list()) "
    }
   },
   "position": {
    "height": "184px",
    "left": "786px",
    "right": "20px",
    "top": "134px",
    "width": "410px"
   },
   "types_to_exclude": [
    "module",
    "function",
    "builtin_function_or_method",
    "instance",
    "_Feature"
   ],
   "window_display": false
  }
 },
 "nbformat": 4,
 "nbformat_minor": 2
}
